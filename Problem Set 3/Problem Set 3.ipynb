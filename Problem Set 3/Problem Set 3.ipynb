{
 "cells": [
  {
   "cell_type": "markdown",
   "id": "53fb670c-ccb9-46e9-98cd-088b9c4d7645",
   "metadata": {},
   "source": [
    "## Question 1 - Occupations"
   ]
  },
  {
   "cell_type": "code",
   "execution_count": 6,
   "id": "0919bedd-bb8d-400e-840c-40024691d230",
   "metadata": {},
   "outputs": [],
   "source": [
    "#Step 1 & 2. Import the necessary libraries and dataset from url \n",
    "import pandas as pd\n",
    "url = \"https://raw.githubusercontent.com/justmarkham/DAT8/master/data/u.user\"\n",
    "#Step 3.  Assigned a variable called users\n",
    "users = pd.read_csv(url, sep='|')\n"
   ]
  },
  {
   "cell_type": "code",
   "execution_count": 7,
   "id": "4d87a159-15ef-43d2-8975-a187d3d8126e",
   "metadata": {},
   "outputs": [
    {
     "name": "stdout",
     "output_type": "stream",
     "text": [
      "The mean age per occupation:\n",
      "occupation\n",
      "administrator    38.75\n",
      "artist           31.39\n",
      "doctor           43.57\n",
      "educator         42.01\n",
      "engineer         36.39\n",
      "entertainment    29.22\n",
      "executive        38.72\n",
      "healthcare       41.56\n",
      "homemaker        32.57\n",
      "lawyer           36.75\n",
      "librarian        40.00\n",
      "marketing        37.62\n",
      "none             26.56\n",
      "other            34.52\n",
      "programmer       33.12\n",
      "retired          63.07\n",
      "salesman         35.67\n",
      "scientist        35.55\n",
      "student          22.08\n",
      "technician       33.15\n",
      "writer           36.31\n",
      "Name: age, dtype: float64\n"
     ]
    }
   ],
   "source": [
    "#Step 4. Mean age per occupation\n",
    "mean_age_per_occupation = users.groupby('occupation')['age'].mean().round(2)\n",
    "print(\"The mean age per occupation:\")\n",
    "print(mean_age_per_occupation)"
   ]
  },
  {
   "cell_type": "code",
   "execution_count": 8,
   "id": "2d8b8ef5-036b-4c65-bf65-c4f002f026d8",
   "metadata": {},
   "outputs": [
    {
     "name": "stdout",
     "output_type": "stream",
     "text": [
      "\n",
      "Male ratio per occupation (sorted):\n",
      "occupation\n",
      "doctor           1.000000\n",
      "engineer         0.970149\n",
      "technician       0.962963\n",
      "retired          0.928571\n",
      "programmer       0.909091\n",
      "executive        0.906250\n",
      "scientist        0.903226\n",
      "entertainment    0.888889\n",
      "lawyer           0.833333\n",
      "salesman         0.750000\n",
      "educator         0.726316\n",
      "student          0.693878\n",
      "other            0.657143\n",
      "marketing        0.615385\n",
      "writer           0.577778\n",
      "none             0.555556\n",
      "administrator    0.544304\n",
      "artist           0.535714\n",
      "librarian        0.431373\n",
      "healthcare       0.312500\n",
      "homemaker        0.142857\n",
      "Name: gender, dtype: float64\n"
     ]
    }
   ],
   "source": [
    "#Step 5. The Male ratio per occupation and sort it from the most to the least\n",
    "male_ratio_per_occupation = users.groupby('occupation')['gender'].apply(lambda x: (x == 'M').mean()).sort_values(ascending=False)\n",
    "print(\"\\nMale ratio per occupation (sorted):\")\n",
    "print(male_ratio_per_occupation)"
   ]
  },
  {
   "cell_type": "code",
   "execution_count": 28,
   "id": "b420e83e-e69d-4cb2-a637-ada27f09ff2a",
   "metadata": {},
   "outputs": [
    {
     "name": "stdout",
     "output_type": "stream",
     "text": [
      "\n",
      "Minimum and maximum ages per occupation:\n",
      "               min  max\n",
      "occupation             \n",
      "administrator   21   70\n",
      "artist          19   48\n",
      "doctor          28   64\n",
      "educator        23   63\n",
      "engineer        22   70\n",
      "entertainment   15   50\n",
      "executive       22   69\n",
      "healthcare      22   62\n",
      "homemaker       20   50\n",
      "lawyer          21   53\n",
      "librarian       23   69\n",
      "marketing       24   55\n",
      "none            11   55\n",
      "other           13   64\n",
      "programmer      20   63\n",
      "retired         51   73\n",
      "salesman        18   66\n",
      "scientist       23   55\n",
      "student          7   42\n",
      "technician      21   55\n",
      "writer          18   60\n"
     ]
    }
   ],
   "source": [
    "#Step 6. Calculate the minimum and maximum ages for each occupation \n",
    "min_max_age_per_occupation = users.groupby('occupation')['age'].agg(['min', 'max'])\n",
    "print(\"\\nMinimum and maximum ages per occupation:\")\n",
    "print(min_max_age_per_occupation)"
   ]
  },
  {
   "cell_type": "code",
   "execution_count": 29,
   "id": "36197d55-70f4-4c97-be3f-35e48b79c31d",
   "metadata": {},
   "outputs": [
    {
     "name": "stdout",
     "output_type": "stream",
     "text": [
      "\n",
      "Mean age per occupation and sex:\n",
      "occupation     gender\n",
      "administrator  F         40.64\n",
      "               M         37.16\n",
      "artist         F         30.31\n",
      "               M         32.33\n",
      "doctor         M         43.57\n",
      "educator       F         39.12\n",
      "               M         43.10\n",
      "engineer       F         29.50\n",
      "               M         36.60\n",
      "entertainment  F         31.00\n",
      "               M         29.00\n",
      "executive      F         44.00\n",
      "               M         38.17\n",
      "healthcare     F         39.82\n",
      "               M         45.40\n",
      "homemaker      F         34.17\n",
      "               M         23.00\n",
      "lawyer         F         39.50\n",
      "               M         36.20\n",
      "librarian      F         40.00\n",
      "               M         40.00\n",
      "marketing      F         37.20\n",
      "               M         37.88\n",
      "none           F         36.50\n",
      "               M         18.60\n",
      "other          F         35.47\n",
      "               M         34.03\n",
      "programmer     F         32.17\n",
      "               M         33.22\n",
      "retired        F         70.00\n",
      "               M         62.54\n",
      "salesman       F         27.00\n",
      "               M         38.56\n",
      "scientist      F         28.33\n",
      "               M         36.32\n",
      "student        F         20.75\n",
      "               M         22.67\n",
      "technician     F         38.00\n",
      "               M         32.96\n",
      "writer         F         37.63\n",
      "               M         35.35\n",
      "Name: age, dtype: float64\n"
     ]
    }
   ],
   "source": [
    "#Step 7. For each combination of occupation and sex, calculate the mean age\n",
    "mean_age_per_occupation_sex = users.groupby(['occupation', 'gender'])['age'].mean().round(2)\n",
    "print(\"\\nMean age per occupation and sex:\")\n",
    "print(mean_age_per_occupation_sex)"
   ]
  },
  {
   "cell_type": "code",
   "execution_count": 30,
   "id": "c0692eea-266c-41a6-8b91-728b9a7fdcfb",
   "metadata": {},
   "outputs": [
    {
     "name": "stdout",
     "output_type": "stream",
     "text": [
      "\n",
      "Percentage of women and men per occupation:\n",
      "occupation     gender\n",
      "administrator  F          45.57\n",
      "               M          54.43\n",
      "artist         F          46.43\n",
      "               M          53.57\n",
      "doctor         M         100.00\n",
      "educator       F          27.37\n",
      "               M          72.63\n",
      "engineer       F           2.99\n",
      "               M          97.01\n",
      "entertainment  F          11.11\n",
      "               M          88.89\n",
      "executive      F           9.38\n",
      "               M          90.62\n",
      "healthcare     F          68.75\n",
      "               M          31.25\n",
      "homemaker      F          85.71\n",
      "               M          14.29\n",
      "lawyer         F          16.67\n",
      "               M          83.33\n",
      "librarian      F          56.86\n",
      "               M          43.14\n",
      "marketing      F          38.46\n",
      "               M          61.54\n",
      "none           F          44.44\n",
      "               M          55.56\n",
      "other          F          34.29\n",
      "               M          65.71\n",
      "programmer     F           9.09\n",
      "               M          90.91\n",
      "retired        F           7.14\n",
      "               M          92.86\n",
      "salesman       F          25.00\n",
      "               M          75.00\n",
      "scientist      F           9.68\n",
      "               M          90.32\n",
      "student        F          30.61\n",
      "               M          69.39\n",
      "technician     F           3.70\n",
      "               M          96.30\n",
      "writer         F          42.22\n",
      "               M          57.78\n",
      "dtype: float64\n"
     ]
    }
   ],
   "source": [
    "#Step 8. For each occupation present the percentage of women and men\n",
    "total_count_per_occupation = users.groupby('occupation')['gender'].count()\n",
    "percentage_gender_per_occupation = (users.groupby(['occupation', 'gender']).size() / total_count_per_occupation * 100).round(2)\n",
    "print(\"\\nPercentage of women and men per occupation:\")\n",
    "print(percentage_gender_per_occupation)"
   ]
  },
  {
   "cell_type": "markdown",
   "id": "ad85d1d3-53fe-43ff-bd15-d81082a66015",
   "metadata": {},
   "source": [
    "## Question 2 - Teams"
   ]
  },
  {
   "cell_type": "code",
   "execution_count": 107,
   "id": "c8a354f8-e977-4951-b985-67a78e871bdf",
   "metadata": {},
   "outputs": [],
   "source": [
    "#Step 1. Import the necessary libraries\n",
    "#Step 2. Import the dataset from this address\n",
    "#Step 3. Assign it to a variable called euro12\n",
    "\n",
    "import pandas as pd\n",
    "euro_url = \"https://raw.githubusercontent.com/guipsamora/pandas_exercises/master/02_Filtering_%26_Sorting/Euro12/Euro_2012_stats_TEAM.csv\"\n",
    "euro12 = pd.read_csv(euro_url)"
   ]
  },
  {
   "cell_type": "code",
   "execution_count": 108,
   "id": "be0c1e52-368f-4324-96d0-4589de95b75b",
   "metadata": {},
   "outputs": [
    {
     "name": "stdout",
     "output_type": "stream",
     "text": [
      "0      4\n",
      "1      4\n",
      "2      4\n",
      "3      5\n",
      "4      3\n",
      "5     10\n",
      "6      5\n",
      "7      6\n",
      "8      2\n",
      "9      2\n",
      "10     6\n",
      "11     1\n",
      "12     5\n",
      "13    12\n",
      "14     5\n",
      "15     2\n",
      "Name: Goals, dtype: int64\n"
     ]
    }
   ],
   "source": [
    "#Step 4. Select only the Goal column\n",
    "goals = euro12['Goals']\n",
    "print(goals)"
   ]
  },
  {
   "cell_type": "code",
   "execution_count": 109,
   "id": "bf65d2c7-bf3a-4b93-ae50-5291b8e49e69",
   "metadata": {},
   "outputs": [
    {
     "name": "stdout",
     "output_type": "stream",
     "text": [
      "Number of teams that participated in Euro2012: 16\n"
     ]
    }
   ],
   "source": [
    "#Step 5. No. of teams participated in the Euro2012?\n",
    "num_teams = len(euro12['Team'].unique())\n",
    "print(\"Number of teams that participated in Euro2012:\", num_teams)"
   ]
  },
  {
   "cell_type": "code",
   "execution_count": 110,
   "id": "815d03bd-1b10-419a-a53b-889f52ef9e2c",
   "metadata": {},
   "outputs": [
    {
     "name": "stdout",
     "output_type": "stream",
     "text": [
      "Number of columns in the dataset: 35\n"
     ]
    }
   ],
   "source": [
    "#Step 6. The number of columns in the dataset?\n",
    "num_columns = euro12.shape[1]\n",
    "print(\"Number of columns in the dataset:\", num_columns)"
   ]
  },
  {
   "cell_type": "code",
   "execution_count": 111,
   "id": "e31883e0-a6ae-4556-ba83-c633bd8e6b40",
   "metadata": {},
   "outputs": [
    {
     "name": "stdout",
     "output_type": "stream",
     "text": [
      "Discipline\n",
      "                   Team  Yellow Cards  Red Cards\n",
      "0               Croatia             9          0\n",
      "1        Czech Republic             7          0\n",
      "2               Denmark             4          0\n",
      "3               England             5          0\n",
      "4                France             6          0\n",
      "5               Germany             4          0\n",
      "6                Greece             9          1\n",
      "7                 Italy            16          0\n",
      "8           Netherlands             5          0\n",
      "9                Poland             7          1\n",
      "10             Portugal            12          0\n",
      "11  Republic of Ireland             6          1\n",
      "12               Russia             6          0\n",
      "13                Spain            11          0\n",
      "14               Sweden             7          0\n",
      "15              Ukraine             5          0\n"
     ]
    }
   ],
   "source": [
    "#Step 7. Team Columns, Yellow Cards and Red Cards and assign them to a dataframe called discipline\n",
    "discipline = euro12[['Team', 'Yellow Cards', 'Red Cards']]\n",
    "print(\"Discipline\")\n",
    "print(discipline)"
   ]
  },
  {
   "cell_type": "code",
   "execution_count": 112,
   "id": "fcb0e327-19ca-4213-9aa9-742236a8d977",
   "metadata": {},
   "outputs": [
    {
     "name": "stdout",
     "output_type": "stream",
     "text": [
      "                   Team  Red Cards  Yellow Cards\n",
      "6                Greece          1             9\n",
      "9                Poland          1             7\n",
      "11  Republic of Ireland          1             6\n",
      "7                 Italy          0            16\n",
      "10             Portugal          0            12\n",
      "13                Spain          0            11\n",
      "0               Croatia          0             9\n",
      "1        Czech Republic          0             7\n",
      "14               Sweden          0             7\n",
      "4                France          0             6\n",
      "12               Russia          0             6\n",
      "3               England          0             5\n",
      "8           Netherlands          0             5\n",
      "15              Ukraine          0             5\n",
      "2               Denmark          0             4\n",
      "5               Germany          0             4\n"
     ]
    }
   ],
   "source": [
    "#Step 8. Sort the teams by Red Cards, then to Yellow Cards\n",
    "discipline_sort = discipline.sort_values(by=['Red Cards', 'Yellow Cards'], ascending=[False, False])\n",
    "print(discipline_sort[['Team', 'Red Cards', 'Yellow Cards']])"
   ]
  },
  {
   "cell_type": "code",
   "execution_count": 113,
   "id": "8d9f2a8f-81ef-44a3-8d05-4be66edf68ac",
   "metadata": {},
   "outputs": [
    {
     "name": "stdout",
     "output_type": "stream",
     "text": [
      "\n",
      "Mean Yellow Cards given per Team: 7.4375\n"
     ]
    }
   ],
   "source": [
    "#Step 9. Mean Yellow Cards given per Team\n",
    "mean_yc_per_team = discipline['Yellow Cards'].mean()\n",
    "print(\"\\nMean Yellow Cards given per Team:\", mean_yc_per_team)"
   ]
  },
  {
   "cell_type": "code",
   "execution_count": 114,
   "id": "0cfb61c4-4dce-424a-bca7-ae4657a6cc4c",
   "metadata": {},
   "outputs": [
    {
     "name": "stdout",
     "output_type": "stream",
     "text": [
      "\n",
      "Teams that scored more than 6 goals:\n",
      "       Team  Goals\n",
      "5   Germany     10\n",
      "13    Spain     12\n"
     ]
    }
   ],
   "source": [
    "# Step 10. More than 6 goals\n",
    "teams_6 = euro12[euro12['Goals'] > 6]\n",
    "print(\"\\nTeams that scored more than 6 goals:\")\n",
    "print(teams_6[['Team', 'Goals']])"
   ]
  },
  {
   "cell_type": "code",
   "execution_count": 115,
   "id": "36359205-7d7a-4069-a415-843306740bde",
   "metadata": {},
   "outputs": [
    {
     "name": "stdout",
     "output_type": "stream",
     "text": [
      "      Team\n",
      "5  Germany\n",
      "6   Greece\n"
     ]
    }
   ],
   "source": [
    "# Step 11. Teams that start with G\n",
    "teams_startwith_G = euro12[euro12['Team'].str.startswith('G')]\n",
    "print(teams_startwith_G[['Team']])"
   ]
  },
  {
   "cell_type": "code",
   "execution_count": 19,
   "id": "f5357070-9821-42c0-b0be-f38ff5fa2c5f",
   "metadata": {},
   "outputs": [
    {
     "name": "stdout",
     "output_type": "stream",
     "text": [
      "\n",
      "Step 12: First 7 columns:\n",
      "                   Team  Goals  Shots on target  Shots off target  \\\n",
      "0               Croatia      4               13                12   \n",
      "1        Czech Republic      4               13                18   \n",
      "2               Denmark      4               10                10   \n",
      "3               England      5               11                18   \n",
      "4                France      3               22                24   \n",
      "5               Germany     10               32                32   \n",
      "6                Greece      5                8                18   \n",
      "7                 Italy      6               34                45   \n",
      "8           Netherlands      2               12                36   \n",
      "9                Poland      2               15                23   \n",
      "10             Portugal      6               22                42   \n",
      "11  Republic of Ireland      1                7                12   \n",
      "12               Russia      5                9                31   \n",
      "13                Spain     12               42                33   \n",
      "14               Sweden      5               17                19   \n",
      "15              Ukraine      2                7                26   \n",
      "\n",
      "   Shooting Accuracy % Goals-to-shots  Total shots (inc. Blocked)  \n",
      "0              51.9%            16.0%                          32  \n",
      "1              41.9%            12.9%                          39  \n",
      "2              50.0%            20.0%                          27  \n",
      "3              50.0%            17.2%                          40  \n",
      "4              37.9%             6.5%                          65  \n",
      "5              47.8%            15.6%                          80  \n",
      "6              30.7%            19.2%                          32  \n",
      "7              43.0%             7.5%                         110  \n",
      "8              25.0%             4.1%                          60  \n",
      "9              39.4%             5.2%                          48  \n",
      "10             34.3%             9.3%                          82  \n",
      "11             36.8%             5.2%                          28  \n",
      "12             22.5%            12.5%                          59  \n",
      "13             55.9%            16.0%                         100  \n",
      "14             47.2%            13.8%                          39  \n",
      "15             21.2%             6.0%                          38  \n"
     ]
    }
   ],
   "source": [
    "# Step 12. First 7 columns\n",
    "first_7_columns = euro12.iloc[:, :7]\n",
    "print(\"\\nStep 12: First 7 columns:\")\n",
    "print(first_7_columns)"
   ]
  },
  {
   "cell_type": "code",
   "execution_count": 20,
   "id": "b0760574-1a33-4372-9242-d9b4f33a7d6a",
   "metadata": {},
   "outputs": [
    {
     "name": "stdout",
     "output_type": "stream",
     "text": [
      "\n",
      "Step 13: All columns except the last 3:\n",
      "                   Team  Goals  Shots on target  Shots off target  \\\n",
      "0               Croatia      4               13                12   \n",
      "1        Czech Republic      4               13                18   \n",
      "2               Denmark      4               10                10   \n",
      "3               England      5               11                18   \n",
      "4                France      3               22                24   \n",
      "5               Germany     10               32                32   \n",
      "6                Greece      5                8                18   \n",
      "7                 Italy      6               34                45   \n",
      "8           Netherlands      2               12                36   \n",
      "9                Poland      2               15                23   \n",
      "10             Portugal      6               22                42   \n",
      "11  Republic of Ireland      1                7                12   \n",
      "12               Russia      5                9                31   \n",
      "13                Spain     12               42                33   \n",
      "14               Sweden      5               17                19   \n",
      "15              Ukraine      2                7                26   \n",
      "\n",
      "   Shooting Accuracy % Goals-to-shots  Total shots (inc. Blocked)  \\\n",
      "0              51.9%            16.0%                          32   \n",
      "1              41.9%            12.9%                          39   \n",
      "2              50.0%            20.0%                          27   \n",
      "3              50.0%            17.2%                          40   \n",
      "4              37.9%             6.5%                          65   \n",
      "5              47.8%            15.6%                          80   \n",
      "6              30.7%            19.2%                          32   \n",
      "7              43.0%             7.5%                         110   \n",
      "8              25.0%             4.1%                          60   \n",
      "9              39.4%             5.2%                          48   \n",
      "10             34.3%             9.3%                          82   \n",
      "11             36.8%             5.2%                          28   \n",
      "12             22.5%            12.5%                          59   \n",
      "13             55.9%            16.0%                         100   \n",
      "14             47.2%            13.8%                          39   \n",
      "15             21.2%             6.0%                          38   \n",
      "\n",
      "    Hit Woodwork  Penalty goals  Penalties not scored  ...  Clean Sheets  \\\n",
      "0              0              0                     0  ...             0   \n",
      "1              0              0                     0  ...             1   \n",
      "2              1              0                     0  ...             1   \n",
      "3              0              0                     0  ...             2   \n",
      "4              1              0                     0  ...             1   \n",
      "5              2              1                     0  ...             1   \n",
      "6              1              1                     1  ...             1   \n",
      "7              2              0                     0  ...             2   \n",
      "8              2              0                     0  ...             0   \n",
      "9              0              0                     0  ...             0   \n",
      "10             6              0                     0  ...             2   \n",
      "11             0              0                     0  ...             0   \n",
      "12             2              0                     0  ...             0   \n",
      "13             0              1                     0  ...             5   \n",
      "14             3              0                     0  ...             1   \n",
      "15             0              0                     0  ...             0   \n",
      "\n",
      "    Blocks  Goals conceded Saves made  Saves-to-shots ratio  Fouls Won  \\\n",
      "0       10               3         13                 81.3%         41   \n",
      "1       10               6          9                 60.1%         53   \n",
      "2       10               5         10                 66.7%         25   \n",
      "3       29               3         22                 88.1%         43   \n",
      "4        7               5          6                 54.6%         36   \n",
      "5       11               6         10                 62.6%         63   \n",
      "6       23               7         13                 65.1%         67   \n",
      "7       18               7         20                 74.1%        101   \n",
      "8        9               5         12                 70.6%         35   \n",
      "9        8               3          6                 66.7%         48   \n",
      "10      11               4         10                 71.5%         73   \n",
      "11      23               9         17                 65.4%         43   \n",
      "12       8               3         10                 77.0%         34   \n",
      "13       8               1         15                 93.8%        102   \n",
      "14      12               5          8                 61.6%         35   \n",
      "15       4               4         13                 76.5%         48   \n",
      "\n",
      "    Fouls Conceded  Offsides  Yellow Cards  Red Cards  \n",
      "0               62         2             9          0  \n",
      "1               73         8             7          0  \n",
      "2               38         8             4          0  \n",
      "3               45         6             5          0  \n",
      "4               51         5             6          0  \n",
      "5               49        12             4          0  \n",
      "6               48        12             9          1  \n",
      "7               89        16            16          0  \n",
      "8               30         3             5          0  \n",
      "9               56         3             7          1  \n",
      "10              90        10            12          0  \n",
      "11              51        11             6          1  \n",
      "12              43         4             6          0  \n",
      "13              83        19            11          0  \n",
      "14              51         7             7          0  \n",
      "15              31         4             5          0  \n",
      "\n",
      "[16 rows x 32 columns]\n"
     ]
    }
   ],
   "source": [
    "# Step 13. All columns except the last 3\n",
    "all_columns_except_last_3 = euro12.iloc[:, :-3]\n",
    "print(\"\\nStep 13: All columns except the last 3:\")\n",
    "print(all_columns_except_last_3)"
   ]
  },
  {
   "cell_type": "code",
   "execution_count": 21,
   "id": "baa8ea62-09e0-4ae3-8187-d33ed75b9dec",
   "metadata": {},
   "outputs": [
    {
     "name": "stdout",
     "output_type": "stream",
     "text": [
      "\n",
      "Step 14: Shooting Accuracy from England, Italy, and Russia:\n",
      "       Team Shooting Accuracy\n",
      "3   England             50.0%\n",
      "7     Italy             43.0%\n",
      "12   Russia             22.5%\n"
     ]
    }
   ],
   "source": [
    "# Step 14. Shooting Accuracy from England, Italy and Russia\n",
    "shooting_accuracy_selected_countries = euro12.loc[euro12['Team'].isin(['England', 'Italy', 'Russia']), ['Team', 'Shooting Accuracy']]\n",
    "print(\"\\nStep 14: Shooting Accuracy from England, Italy, and Russia:\")\n",
    "print(shooting_accuracy_selected_countries)\n"
   ]
  },
  {
   "cell_type": "markdown",
   "id": "c706583e-12fd-4536-a913-d843cc911526",
   "metadata": {},
   "source": [
    "## Question 3 - Housing "
   ]
  },
  {
   "cell_type": "code",
   "execution_count": 22,
   "id": "4a89a7f7-c47e-4552-bc64-dff197aeea6e",
   "metadata": {},
   "outputs": [],
   "source": [
    "#Step 1. Import the necessary libraries\n",
    "import pandas as pd\n",
    "import numpy as np\n",
    "#Step 2.Create 3 differents Series, each of length 100, as follows:\n",
    "# The first a random number from 1 to 4\n",
    "series1 = pd.Series(np.random.randint(1, 5, size=100))\n",
    "# The second a random number from 1 to 3\n",
    "series2 = pd.Series(np.random.randint(1, 4, size=100))\n",
    "# The third a random number from 10,000 to 30,000\n",
    "series3 = pd.Series(np.random.randint(10000, 30001, size=100))\n"
   ]
  },
  {
   "cell_type": "code",
   "execution_count": 23,
   "id": "a65c64ad-3a99-4f69-b293-a471c8a3d247",
   "metadata": {},
   "outputs": [
    {
     "name": "stdout",
     "output_type": "stream",
     "text": [
      "\n",
      "DataFrame:\n",
      "   Series1  Series2  Series3\n",
      "0        4        3    22188\n",
      "1        2        1    11739\n",
      "2        2        2    15026\n",
      "3        3        3    24895\n",
      "4        4        3    15998\n"
     ]
    }
   ],
   "source": [
    "#Step 3. Create a DataFrame by joining the Series by column\n",
    "df = pd.DataFrame({'Series1': series1, 'Series2': series2, 'Series3': series3})\n",
    "print(\"\\nDataFrame:\")\n",
    "print(df.head())"
   ]
  },
  {
   "cell_type": "code",
   "execution_count": 24,
   "id": "4716fdf5-3488-4bc1-9615-ed13487d2e5f",
   "metadata": {},
   "outputs": [
    {
     "name": "stdout",
     "output_type": "stream",
     "text": [
      "   bedrs  bathrs  price_sqr_meter\n",
      "0      4       3            22188\n",
      "1      2       1            11739\n",
      "2      2       2            15026\n",
      "3      3       3            24895\n",
      "4      4       3            15998\n"
     ]
    }
   ],
   "source": [
    "#Step 4. Change the name of the columns to bedrs, bathrs, price_sqr_meter\n",
    "df.columns = ['bedrs', 'bathrs', 'price_sqr_meter']\n",
    "print(df.head())"
   ]
  },
  {
   "cell_type": "code",
   "execution_count": 25,
   "id": "f7942cc7-a92a-4ab0-8c10-53627b389371",
   "metadata": {},
   "outputs": [],
   "source": [
    "#Step 5. Create a one column DataFrame with the values of the 3 Series and assign it to 'bigcolumn'\n",
    "bigcolumn = pd.concat([series1, series2, series3], axis=0, ignore_index=True).to_frame()"
   ]
  },
  {
   "cell_type": "code",
   "execution_count": 26,
   "id": "de4a1721-8617-471d-9285-4b516896a716",
   "metadata": {},
   "outputs": [
    {
     "name": "stdout",
     "output_type": "stream",
     "text": [
      "Index goes until 99: False\n"
     ]
    }
   ],
   "source": [
    "#Step 6. Oops it seems it is going only until index 99. Is it true?\n",
    "print(\"Index goes until 99:\", bigcolumn.index.max() == 99)"
   ]
  },
  {
   "cell_type": "code",
   "execution_count": 27,
   "id": "680341a4-ba7d-4720-bee5-8aa6153ffadd",
   "metadata": {},
   "outputs": [
    {
     "name": "stdout",
     "output_type": "stream",
     "text": [
      "New index range: RangeIndex(start=0, stop=300, step=1)\n"
     ]
    }
   ],
   "source": [
    "#Step 7. Reindex the DataFrame so it goes from 0 to 299\n",
    "bigcolumn = bigcolumn.reset_index(drop=True)\n",
    "print(\"New index range:\", bigcolumn.index)"
   ]
  },
  {
   "cell_type": "markdown",
   "id": "de5610c6-2b0f-4446-bc2a-3b5c3484cf39",
   "metadata": {},
   "source": [
    "## Question 4 - Wind Statistics  "
   ]
  },
  {
   "cell_type": "code",
   "execution_count": 395,
   "id": "8a2e0b24-46b4-46fe-9c5a-1f08027760c8",
   "metadata": {},
   "outputs": [
    {
     "data": {
      "text/html": [
       "<div>\n",
       "<style scoped>\n",
       "    .dataframe tbody tr th:only-of-type {\n",
       "        vertical-align: middle;\n",
       "    }\n",
       "\n",
       "    .dataframe tbody tr th {\n",
       "        vertical-align: top;\n",
       "    }\n",
       "\n",
       "    .dataframe thead th {\n",
       "        text-align: right;\n",
       "    }\n",
       "</style>\n",
       "<table border=\"1\" class=\"dataframe\">\n",
       "  <thead>\n",
       "    <tr style=\"text-align: right;\">\n",
       "      <th></th>\n",
       "      <th>0</th>\n",
       "      <th>1</th>\n",
       "      <th>2</th>\n",
       "      <th>3</th>\n",
       "      <th>4</th>\n",
       "      <th>5</th>\n",
       "      <th>6</th>\n",
       "      <th>7</th>\n",
       "      <th>8</th>\n",
       "      <th>9</th>\n",
       "      <th>10</th>\n",
       "      <th>11</th>\n",
       "      <th>12</th>\n",
       "      <th>13</th>\n",
       "      <th>14</th>\n",
       "    </tr>\n",
       "  </thead>\n",
       "  <tbody>\n",
       "    <tr>\n",
       "      <th>0</th>\n",
       "      <td>61</td>\n",
       "      <td>1</td>\n",
       "      <td>1</td>\n",
       "      <td>15.04</td>\n",
       "      <td>14.96</td>\n",
       "      <td>13.17</td>\n",
       "      <td>9.29</td>\n",
       "      <td>NaN</td>\n",
       "      <td>9.87</td>\n",
       "      <td>13.67</td>\n",
       "      <td>10.25</td>\n",
       "      <td>10.83</td>\n",
       "      <td>12.58</td>\n",
       "      <td>18.50</td>\n",
       "      <td>15.04</td>\n",
       "    </tr>\n",
       "    <tr>\n",
       "      <th>1</th>\n",
       "      <td>61</td>\n",
       "      <td>1</td>\n",
       "      <td>2</td>\n",
       "      <td>14.71</td>\n",
       "      <td>NaN</td>\n",
       "      <td>10.83</td>\n",
       "      <td>6.50</td>\n",
       "      <td>12.62</td>\n",
       "      <td>7.67</td>\n",
       "      <td>11.50</td>\n",
       "      <td>10.04</td>\n",
       "      <td>9.79</td>\n",
       "      <td>9.67</td>\n",
       "      <td>17.54</td>\n",
       "      <td>13.83</td>\n",
       "    </tr>\n",
       "    <tr>\n",
       "      <th>2</th>\n",
       "      <td>61</td>\n",
       "      <td>1</td>\n",
       "      <td>3</td>\n",
       "      <td>18.50</td>\n",
       "      <td>16.88</td>\n",
       "      <td>12.33</td>\n",
       "      <td>10.13</td>\n",
       "      <td>11.17</td>\n",
       "      <td>6.17</td>\n",
       "      <td>11.25</td>\n",
       "      <td>NaN</td>\n",
       "      <td>8.50</td>\n",
       "      <td>7.67</td>\n",
       "      <td>12.75</td>\n",
       "      <td>12.71</td>\n",
       "    </tr>\n",
       "  </tbody>\n",
       "</table>\n",
       "</div>"
      ],
      "text/plain": [
       "   0   1   2      3      4      5      6      7     8      9      10     11  \\\n",
       "0  61   1   1  15.04  14.96  13.17   9.29    NaN  9.87  13.67  10.25  10.83   \n",
       "1  61   1   2  14.71    NaN  10.83   6.50  12.62  7.67  11.50  10.04   9.79   \n",
       "2  61   1   3  18.50  16.88  12.33  10.13  11.17  6.17  11.25    NaN   8.50   \n",
       "\n",
       "      12     13     14  \n",
       "0  12.58  18.50  15.04  \n",
       "1   9.67  17.54  13.83  \n",
       "2   7.67  12.75  12.71  "
      ]
     },
     "execution_count": 395,
     "metadata": {},
     "output_type": "execute_result"
    }
   ],
   "source": [
    "#Step 1. Import the necessary libraries\n",
    "import pandas as pd\n",
    "import numpy as np\n",
    "# Step 2: Import dataset\n",
    "#data = pd.read_csv('wind.txt', sep='\\s+')\n",
    "data = pd.read_csv('wind.txt', sep='\\s+', header=None, skiprows=1)\n",
    "# Assuming 'wind.txt' is the name of the file\n",
    "data.head(3)\n"
   ]
  },
  {
   "cell_type": "code",
   "execution_count": 396,
   "id": "87a2cd94-7c45-4768-be94-de32a53f8440",
   "metadata": {
    "scrolled": true
   },
   "outputs": [
    {
     "data": {
      "text/html": [
       "<div>\n",
       "<style scoped>\n",
       "    .dataframe tbody tr th:only-of-type {\n",
       "        vertical-align: middle;\n",
       "    }\n",
       "\n",
       "    .dataframe tbody tr th {\n",
       "        vertical-align: top;\n",
       "    }\n",
       "\n",
       "    .dataframe thead th {\n",
       "        text-align: right;\n",
       "    }\n",
       "</style>\n",
       "<table border=\"1\" class=\"dataframe\">\n",
       "  <thead>\n",
       "    <tr style=\"text-align: right;\">\n",
       "      <th></th>\n",
       "      <th>3</th>\n",
       "      <th>4</th>\n",
       "      <th>5</th>\n",
       "      <th>6</th>\n",
       "      <th>7</th>\n",
       "      <th>8</th>\n",
       "      <th>9</th>\n",
       "      <th>10</th>\n",
       "      <th>11</th>\n",
       "      <th>12</th>\n",
       "      <th>13</th>\n",
       "      <th>14</th>\n",
       "    </tr>\n",
       "    <tr>\n",
       "      <th>date</th>\n",
       "      <th></th>\n",
       "      <th></th>\n",
       "      <th></th>\n",
       "      <th></th>\n",
       "      <th></th>\n",
       "      <th></th>\n",
       "      <th></th>\n",
       "      <th></th>\n",
       "      <th></th>\n",
       "      <th></th>\n",
       "      <th></th>\n",
       "      <th></th>\n",
       "    </tr>\n",
       "  </thead>\n",
       "  <tbody>\n",
       "    <tr>\n",
       "      <th>2061-01-01</th>\n",
       "      <td>15.04</td>\n",
       "      <td>14.96</td>\n",
       "      <td>13.17</td>\n",
       "      <td>9.29</td>\n",
       "      <td>NaN</td>\n",
       "      <td>9.87</td>\n",
       "      <td>13.67</td>\n",
       "      <td>10.25</td>\n",
       "      <td>10.83</td>\n",
       "      <td>12.58</td>\n",
       "      <td>18.50</td>\n",
       "      <td>15.04</td>\n",
       "    </tr>\n",
       "    <tr>\n",
       "      <th>2061-01-02</th>\n",
       "      <td>14.71</td>\n",
       "      <td>NaN</td>\n",
       "      <td>10.83</td>\n",
       "      <td>6.50</td>\n",
       "      <td>12.62</td>\n",
       "      <td>7.67</td>\n",
       "      <td>11.50</td>\n",
       "      <td>10.04</td>\n",
       "      <td>9.79</td>\n",
       "      <td>9.67</td>\n",
       "      <td>17.54</td>\n",
       "      <td>13.83</td>\n",
       "    </tr>\n",
       "    <tr>\n",
       "      <th>2061-01-03</th>\n",
       "      <td>18.50</td>\n",
       "      <td>16.88</td>\n",
       "      <td>12.33</td>\n",
       "      <td>10.13</td>\n",
       "      <td>11.17</td>\n",
       "      <td>6.17</td>\n",
       "      <td>11.25</td>\n",
       "      <td>NaN</td>\n",
       "      <td>8.50</td>\n",
       "      <td>7.67</td>\n",
       "      <td>12.75</td>\n",
       "      <td>12.71</td>\n",
       "    </tr>\n",
       "  </tbody>\n",
       "</table>\n",
       "</div>"
      ],
      "text/plain": [
       "                3      4      5      6      7     8      9     10     11  \\\n",
       "date                                                                       \n",
       "2061-01-01  15.04  14.96  13.17   9.29    NaN  9.87  13.67  10.25  10.83   \n",
       "2061-01-02  14.71    NaN  10.83   6.50  12.62  7.67  11.50  10.04   9.79   \n",
       "2061-01-03  18.50  16.88  12.33  10.13  11.17  6.17  11.25    NaN   8.50   \n",
       "\n",
       "               12     13     14  \n",
       "date                             \n",
       "2061-01-01  12.58  18.50  15.04  \n",
       "2061-01-02   9.67  17.54  13.83  \n",
       "2061-01-03   7.67  12.75  12.71  "
      ]
     },
     "execution_count": 396,
     "metadata": {},
     "output_type": "execute_result"
    }
   ],
   "source": [
    "# Step 3. Replace the first 3 columns by a proper datetime index\n",
    "# Concatenate year, month, and day columns into a single string\n",
    "data['date'] = data[0].astype(str) + data[1].astype(str) + data[2].astype(str)\n",
    "\n",
    "# Parse the concatenated string as datetime\n",
    "data['date'] = pd.to_datetime(data['date'], format='%y%m%d')\n",
    "\n",
    "# Drop the original year, month, and day columns\n",
    "data.drop(columns=[0, 1, 2], inplace=True)\n",
    "\n",
    "# Set the 'date' column as the index\n",
    "data.set_index('date', inplace=True)\n",
    "data.head(3)\n"
   ]
  },
  {
   "cell_type": "code",
   "execution_count": 397,
   "id": "fc1fa39a-e94c-4199-a3eb-c780946a862c",
   "metadata": {},
   "outputs": [
    {
     "name": "stdout",
     "output_type": "stream",
     "text": [
      "Year fixed:\n",
      "                3      4      5      6      7     8      9     10     11  \\\n",
      "date                                                                       \n",
      "1961-01-01  15.04  14.96  13.17   9.29    NaN  9.87  13.67  10.25  10.83   \n",
      "1961-01-02  14.71    NaN  10.83   6.50  12.62  7.67  11.50  10.04   9.79   \n",
      "1961-01-03  18.50  16.88  12.33  10.13  11.17  6.17  11.25    NaN   8.50   \n",
      "1961-01-04  10.58   6.63  11.75   4.58   4.54  2.88   8.63   1.79   5.83   \n",
      "1961-01-05  13.33  13.25  11.42   6.17  10.71  8.21  11.92   6.54  10.92   \n",
      "\n",
      "               12     13     14  \n",
      "date                             \n",
      "1961-01-01  12.58  18.50  15.04  \n",
      "1961-01-02   9.67  17.54  13.83  \n",
      "1961-01-03   7.67  12.75  12.71  \n",
      "1961-01-04   5.88   5.46  10.88  \n",
      "1961-01-05  10.34  12.92  11.83  \n",
      "\n"
     ]
    }
   ],
   "source": [
    "#Step 4. Create a function to fix Year 2061 and apply it.\n",
    "def fix_year(date):\n",
    "    if date.year > 2000:\n",
    "        return date.replace(year=date.year - 100)\n",
    "    else:\n",
    "        return date\n",
    "\n",
    "data.index = data.index.map(fix_year)\n",
    "print(\"Year fixed:\")\n",
    "print(data.head())\n",
    "print()"
   ]
  },
  {
   "cell_type": "code",
   "execution_count": 400,
   "id": "b9836d05-f4f8-404b-950a-0825ff0dfdfd",
   "metadata": {},
   "outputs": [
    {
     "name": "stdout",
     "output_type": "stream",
     "text": [
      "datetime64[ns]\n"
     ]
    }
   ],
   "source": [
    "#Step 5. Set the right dates as the index. Pay attention at the data type, it should be datetime64[ns].\n",
    "data.index = pd.to_datetime(data.index)\n",
    "print(data.index.dtype)\n"
   ]
  },
  {
   "cell_type": "code",
   "execution_count": 406,
   "id": "3eae12a2-1eaf-4cc5-8ee8-c1535054e6cf",
   "metadata": {},
   "outputs": [
    {
     "name": "stdout",
     "output_type": "stream",
     "text": [
      "Missing Values per Location:\n",
      "3     6\n",
      "4     3\n",
      "5     2\n",
      "6     5\n",
      "7     2\n",
      "8     0\n",
      "9     3\n",
      "10    2\n",
      "11    3\n",
      "12    1\n",
      "13    0\n",
      "14    4\n",
      "dtype: int64\n"
     ]
    }
   ],
   "source": [
    "#Step 6. Compute how many values are missing for each location over the entire\n",
    "missing_values_per_location = data.isnull().sum()\n",
    "print(\"Missing Values per Location:\")\n",
    "print(missing_values_per_location)\n"
   ]
  },
  {
   "cell_type": "code",
   "execution_count": 407,
   "id": "2f1d8b5b-4c14-4660-b5ee-30fbb3df3133",
   "metadata": {},
   "outputs": [
    {
     "name": "stdout",
     "output_type": "stream",
     "text": [
      "\n",
      "Total Non-Missing Values: 78857\n"
     ]
    }
   ],
   "source": [
    "#Step 7. Compute how many non-missing values there are in total.\n",
    "total_non_missing_values = data.notnull().sum().sum()\n",
    "print(\"\\nTotal Non-Missing Values:\", total_non_missing_values)"
   ]
  },
  {
   "cell_type": "code",
   "execution_count": 408,
   "id": "4103b4af-7283-41aa-b4fc-96bc916648af",
   "metadata": {},
   "outputs": [
    {
     "name": "stdout",
     "output_type": "stream",
     "text": [
      "\n",
      "Mean Windspeed for Entire Dataset: 10.227982360836938\n"
     ]
    }
   ],
   "source": [
    "#Step 8. mean windspeeds over all the locations and all the times.\n",
    "mean_windspeed = data.mean().mean()\n",
    "print(\"\\nMean Windspeed for Entire Dataset:\", mean_windspeed)\n"
   ]
  },
  {
   "cell_type": "code",
   "execution_count": 410,
   "id": "8112f5e6-2deb-4e95-b72b-22bb42f1aa9a",
   "metadata": {},
   "outputs": [
    {
     "name": "stdout",
     "output_type": "stream",
     "text": [
      "\n",
      "Statistics for Each Location:\n",
      "     count       mean       std   min    25%    50%    75%    max\n",
      "3   6568.0  12.362987  5.618413  0.67   8.12  11.71  15.92  35.80\n",
      "4   6571.0  10.644314  5.267356  0.21   6.67  10.17  14.04  33.37\n",
      "5   6572.0  11.660526  5.008450  1.50   8.00  10.92  14.67  33.84\n",
      "6   6569.0   6.306468  3.605811  0.00   3.58   5.75   8.42  28.46\n",
      "7   6572.0  10.455834  4.936125  0.13   6.75   9.96  13.54  37.54\n",
      "8   6574.0   7.092254  3.968683  0.00   4.00   6.83   9.67  26.16\n",
      "9   6571.0   9.797343  4.977555  0.00   6.00   9.21  12.96  30.37\n",
      "10  6572.0   8.495053  4.499449  0.00   5.09   8.08  11.42  31.08\n",
      "11  6571.0   8.493590  4.166872  0.00   5.37   8.17  11.19  25.88\n",
      "12  6573.0   8.707332  4.503954  0.04   5.33   8.29  11.63  28.21\n",
      "13  6574.0  13.121007  5.835037  0.13   8.71  12.50  16.88  42.38\n",
      "14  6570.0  15.599079  6.699794  0.67  10.71  15.00  19.83  42.54\n"
     ]
    }
   ],
   "source": [
    "#Step 9. DataFrame called loc_stats and calculate the min, max and mean\n",
    "loc_stats = data.describe().transpose()\n",
    "print(\"\\nStatistics for Each Location:\")\n",
    "print(loc_stats)"
   ]
  },
  {
   "cell_type": "code",
   "execution_count": 428,
   "id": "da6b4023-392f-4c80-bd19-afa7eb71f201",
   "metadata": {},
   "outputs": [
    {
     "name": "stdout",
     "output_type": "stream",
     "text": [
      "\n",
      "Statistics for Each Day:\n",
      "             min    max       mean       std\n",
      "date                                        \n",
      "1961-01-01  9.29  18.50  13.018182  2.808875\n",
      "1961-01-02  6.50  17.54  11.336364  3.188994\n",
      "1961-01-03  6.17  18.50  11.641818  3.681912\n",
      "1961-01-04  1.79  11.75   6.619167  3.198126\n",
      "1961-01-05  6.17  13.33  10.630000  2.445356\n",
      "...          ...    ...        ...       ...\n",
      "1978-12-27  8.08  40.08  16.708333  7.868076\n",
      "1978-12-28  5.00  41.46  15.150000  9.687857\n",
      "1978-12-29  8.71  29.58  14.890000  5.756836\n",
      "1978-12-30  9.13  28.79  15.367500  5.540437\n",
      "1978-12-31  9.59  27.29  15.402500  5.702483\n",
      "\n",
      "[6574 rows x 4 columns]\n"
     ]
    }
   ],
   "source": [
    "#Step 10. DataFrame called day_stats and calculate the min, max and mean\n",
    "day_stats = data.agg(['min', 'max', 'mean', 'std'], axis=1)\n",
    "print(\"\\nStatistics for Each Day:\")\n",
    "print(day_stats)"
   ]
  },
  {
   "cell_type": "code",
   "execution_count": 415,
   "id": "39632187-0e89-43d4-815a-76361961248b",
   "metadata": {},
   "outputs": [
    {
     "name": "stdout",
     "output_type": "stream",
     "text": [
      "\n",
      "Average Windspeed in January for Each Location:\n",
      "3     14.407735\n",
      "4     12.362146\n",
      "5     13.290470\n",
      "6      6.926239\n",
      "7     11.205064\n",
      "8      7.827393\n",
      "9     11.953120\n",
      "10     9.377511\n",
      "11     9.469915\n",
      "12     9.880812\n",
      "13    14.582350\n",
      "14    18.332051\n",
      "dtype: float64\n"
     ]
    }
   ],
   "source": [
    "#Step 11. Find the average windspeed in January for each location.\n",
    "january_avg = data[data.index.month == 1].mean()\n",
    "print(\"\\nAverage Windspeed in January for Each Location:\")\n",
    "print(january_avg)"
   ]
  },
  {
   "cell_type": "code",
   "execution_count": 416,
   "id": "8d84ea16-e175-4622-bd93-450b778c7030",
   "metadata": {},
   "outputs": [
    {
     "name": "stdout",
     "output_type": "stream",
     "text": [
      "\n",
      "Yearly Frequency:\n",
      "                    3          4          5         6          7         8  \\\n",
      "date                                                                         \n",
      "1961-12-31  12.299583  10.351796  11.362369  6.958227  10.881763  7.729726   \n",
      "1962-12-31  12.246923  10.110438  11.732712  6.960440  10.657918  7.393068   \n",
      "1963-12-31  12.813452  10.836986  12.541151  7.330055  11.724110  8.434712   \n",
      "1964-12-31  12.363661  10.920164  12.104372  6.787787  11.454481  7.570874   \n",
      "1965-12-31  12.451370  11.075534  11.848767  6.858466  11.024795  7.478110   \n",
      "1966-12-31  13.461973  11.557205  12.020630  7.345726  11.805041  7.793671   \n",
      "1967-12-31  12.737151  10.990986  11.739397  7.143425  11.630740  7.368164   \n",
      "1968-12-31  11.835628  10.468197  11.409754  6.477678  10.760765  6.067322   \n",
      "1969-12-31  11.166356   9.723699  10.902000  5.767973   9.873918  6.189973   \n",
      "1970-12-31  12.600329  10.726932  11.730247  6.217178  10.567370  7.609452   \n",
      "1971-12-31  11.273123   9.095178  11.088329  5.241507   9.440329  6.097151   \n",
      "1972-12-31  12.463962  10.561311  12.058333  5.929699   9.430410  6.358825   \n",
      "1973-12-31  11.828466  10.680493  10.680493  5.547863   9.640877  6.548740   \n",
      "1974-12-31  13.643096  11.811781  12.336356  6.427041  11.110986  6.809781   \n",
      "1975-12-31  12.008575  10.293836  11.564712  5.269096   9.190082  5.668521   \n",
      "1976-12-31  11.737842  10.203115  10.761230  5.109426   8.846339  6.311038   \n",
      "1977-12-31  13.099616  11.144493  12.627836  6.073945  10.003836  8.586438   \n",
      "1978-12-31  12.504356  11.044274  11.380000  6.082356  10.167233  7.650658   \n",
      "\n",
      "                    9         10        11         12         13         14  \n",
      "date                                                                         \n",
      "1961-12-31   9.733923   8.858788  8.647652   9.835577  13.502795  13.680773  \n",
      "1962-12-31  11.020712   8.793753  8.316822   9.676247  12.930685  14.323956  \n",
      "1963-12-31  11.075699  10.336548  8.903589  10.224438  13.638877  14.999014  \n",
      "1964-12-31  10.259153   9.467350  7.789016  10.207951  13.740546  14.910301  \n",
      "1965-12-31  10.618712   8.879918  7.907425   9.918082  12.964247  15.591644  \n",
      "1966-12-31  10.579808   8.835096  8.514438   9.768959  14.265836  16.307260  \n",
      "1967-12-31  10.652027   9.325616  8.645014   9.547425  14.774548  17.135945  \n",
      "1968-12-31   8.859180   8.255519  7.224945   7.832978  12.808634  15.017486  \n",
      "1969-12-31   8.564493   7.711397  7.924521   7.754384  12.621233  15.762904  \n",
      "1970-12-31   9.609890   8.334630  9.297616   8.289808  13.183644  16.456027  \n",
      "1971-12-31   8.385890   6.757315  7.915370   7.229753  12.208932  15.025233  \n",
      "1972-12-31   9.704508   7.680792  8.357295   7.515273  12.727377  15.028716  \n",
      "1973-12-31   8.482110   7.614274  8.245534   7.812411  12.169699  15.441096  \n",
      "1974-12-31  10.084603   9.896986  9.331753   8.736356  13.252959  16.947671  \n",
      "1975-12-31   8.562603   7.843836  8.797945   7.382822  12.631671  15.307863  \n",
      "1976-12-31   9.149126   7.146202  8.883716   7.883087  12.332377  15.471448  \n",
      "1977-12-31  11.523205   8.378384  9.098192   8.821616  13.459068  16.590849  \n",
      "1978-12-31   9.489342   8.800466  9.089753   8.301699  12.967397  16.771370  \n"
     ]
    }
   ],
   "source": [
    "#Step 12. Downsample the record to a yearly frequency for each location.\n",
    "yearly_data = data.resample('Y').mean()\n",
    "print(\"\\nYearly Frequency:\")\n",
    "print(yearly_data)"
   ]
  },
  {
   "cell_type": "code",
   "execution_count": 419,
   "id": "25d4dd0a-c589-4b82-be1c-9b5b0efd9bc8",
   "metadata": {},
   "outputs": [
    {
     "name": "stdout",
     "output_type": "stream",
     "text": [
      "\n",
      "Monthly Frequency:\n",
      "                    3          4          5         6          7          8  \\\n",
      "date                                                                          \n",
      "1961-01-31  13.983846  12.385833  11.666923  6.826923  10.151667   7.179231   \n",
      "1961-02-28  16.269286  14.975357  14.441481  9.230741  13.852143  10.937500   \n",
      "1961-03-31  10.890000  11.296452  10.752903  7.284000  10.509355   8.866774   \n",
      "1961-04-30  10.722667   9.427667   9.998000  5.830667   8.435000   6.495000   \n",
      "1961-05-31   9.860968   8.850000  10.818065  5.905333   9.490323   6.574839   \n",
      "...               ...        ...        ...       ...        ...        ...   \n",
      "1978-08-31   9.645161   8.259355   9.032258  4.502903   7.368065   5.935161   \n",
      "1978-09-30  10.913667  10.895000  10.635000  5.725000  10.372000   9.278333   \n",
      "1978-10-31   9.897742   8.670968   9.295806  4.721290   8.525161   6.774194   \n",
      "1978-11-30  15.193846  13.518462  13.178974  6.747949  10.729487   7.887692   \n",
      "1978-12-31  16.742250  13.925500  15.323250  7.552750  12.120750   9.282250   \n",
      "\n",
      "                    9         10         11         12         13         14  \n",
      "date                                                                          \n",
      "1961-01-31  11.008462   7.600833   8.442308   8.879231  12.714615  13.451538  \n",
      "1961-02-28  11.890714  11.846071  11.821429  12.714286  18.583214  15.411786  \n",
      "1961-03-31   9.644194   9.829677  10.294138  11.251935  16.410968  15.720000  \n",
      "1961-04-30   6.925333   7.094667   7.342333   7.237000  11.147333  10.278333  \n",
      "1961-05-31   7.604000   8.177097   8.039355   8.499355  11.900323  12.011613  \n",
      "...               ...        ...        ...        ...        ...        ...  \n",
      "1978-08-31   5.650323   5.417742   7.241290   5.536774  10.466774  12.054194  \n",
      "1978-09-30  10.790333   9.583000  10.069333   8.939000  15.680333  19.391333  \n",
      "1978-10-31   8.115484   7.337742   8.297742   8.243871  13.776774  17.150000  \n",
      "1978-11-30  10.917692   8.927179   9.707949   9.619231  15.976667  19.875641  \n",
      "1978-12-31  12.662000  10.760000  10.956000  11.218000  14.545500  22.146000  \n",
      "\n",
      "[216 rows x 12 columns]\n"
     ]
    }
   ],
   "source": [
    "#Step 13. Downsample the record to a monthly frequency for each location.\n",
    "monthly_data = data.resample('M').mean()\n",
    "print(\"\\nMonthly Frequency:\")\n",
    "print(monthly_data)"
   ]
  },
  {
   "cell_type": "code",
   "execution_count": 421,
   "id": "1862323f-1c34-4118-8d3e-b72d55109044",
   "metadata": {},
   "outputs": [
    {
     "name": "stdout",
     "output_type": "stream",
     "text": [
      "\n",
      "Weekly Frequency:\n",
      "                    3          4          5         6          7          8  \\\n",
      "date                                                                          \n",
      "1961-01-01  15.040000  14.960000  13.170000  9.290000        NaN   9.870000   \n",
      "1961-01-08  13.541429  11.486667  10.487143  6.417143   9.474286   6.435714   \n",
      "1961-01-15  12.975000  10.975000  14.750000  6.540000  10.040000   6.665000   \n",
      "1961-01-22   9.590000  11.830000   7.960000  1.580000   7.920000   5.000000   \n",
      "1961-01-29        NaN        NaN        NaN       NaN        NaN        NaN   \n",
      "...               ...        ...        ...       ...        ...        ...   \n",
      "1978-12-03  15.695000  12.454000  13.829000  6.538000  11.677000   9.042000   \n",
      "1978-12-10  20.078462  16.865385  15.906154  9.553077  14.863077  11.086923   \n",
      "1978-12-17  16.758571  14.692857  14.987143  6.917143  11.397143   7.272857   \n",
      "1978-12-24  11.155714   8.008571  13.172857  4.004286   7.825714   6.290000   \n",
      "1978-12-31  14.951429  11.801429  16.035714  6.507143   9.660000   8.620000   \n",
      "\n",
      "                    9         10         11         12         13         14  \n",
      "date                                                                          \n",
      "1961-01-01  13.670000  10.250000  10.830000  12.580000  18.500000  15.040000  \n",
      "1961-01-08  11.061429   6.616667   8.434286   8.497143  12.481429  13.238571  \n",
      "1961-01-15   9.730000   8.960000   8.165000   9.040000  10.810000  13.600000  \n",
      "1961-01-22   3.170000   4.920000   3.130000   3.370000   6.500000   6.790000  \n",
      "1961-01-29        NaN        NaN        NaN        NaN        NaN        NaN  \n",
      "...               ...        ...        ...        ...        ...        ...  \n",
      "1978-12-03  10.779000   9.089000  10.158000  10.300000  12.910000  19.077000  \n",
      "1978-12-10  14.834615  12.668462  12.900769  13.018462  18.118462  25.006154  \n",
      "1978-12-17  10.208571   7.967143   9.168571   8.565714  11.102857  15.562857  \n",
      "1978-12-24   7.798571   8.667143   7.151429   8.072857  11.845714  18.977143  \n",
      "1978-12-31  13.708571  10.477143  10.868571  11.471429  12.947143  26.844286  \n",
      "\n",
      "[940 rows x 12 columns]\n"
     ]
    }
   ],
   "source": [
    "\n",
    "#Step 14. Downsample the record to a weekly frequency for each location\n",
    "weekly_data = data.resample('W').mean()\n",
    "print(\"\\nWeekly Frequency:\")\n",
    "print(weekly_data)"
   ]
  },
  {
   "cell_type": "code",
   "execution_count": 422,
   "id": "7cc713da-ff1c-4719-aeca-b1a421651270",
   "metadata": {},
   "outputs": [
    {
     "name": "stdout",
     "output_type": "stream",
     "text": [
      "\n",
      "Step 15. Weekly Statistics for First 52 Weeks:\n",
      "               3          4          5          6          7          8  \\\n",
      "count  51.000000  51.000000  51.000000  51.000000  50.000000  51.000000   \n",
      "mean   12.174446  10.424960  11.188995   6.867965  10.858304   7.705446   \n",
      "std     3.336427   2.847160   2.757106   2.098510   2.566850   2.276109   \n",
      "min     4.202857   4.255714   6.738571   1.580000   6.112857   2.715714   \n",
      "25%    10.087738   8.536948   8.757857   5.560714   9.010714   6.147857   \n",
      "50%    11.715714   9.798571  10.845714   6.520000  10.275500   7.392000   \n",
      "75%    15.085000  12.461429  13.116429   8.308571  13.333571   9.202143   \n",
      "max    19.684286  16.417143  17.304286  12.620000  15.455714  12.621538   \n",
      "\n",
      "               9         10         11         12         13         14  \n",
      "count  51.000000  51.000000  51.000000  51.000000  51.000000  51.000000  \n",
      "mean    9.545482   8.837482   8.617415   9.766259  13.467131  13.506240  \n",
      "std     2.874916   2.328521   2.391120   2.622035   3.655833   3.476478  \n",
      "min     3.170000   4.625714   3.130000   3.370000   5.875714   5.737143  \n",
      "25%     7.527143   6.947143   6.795714   7.680000  10.755000  11.390714  \n",
      "50%     9.660000   8.960000   8.434286   9.551429  13.520000  13.600000  \n",
      "75%    11.292857  10.339286  10.425714  11.606429  15.900714  15.310833  \n",
      "max    15.565714  14.850000  14.064286  16.461429  21.832857  23.641429  \n"
     ]
    }
   ],
   "source": [
    "# Step 15. Calculate the min, max and mean windspeeds and standard deviations of the\n",
    "weekly_stats = weekly_data[:52].describe()\n",
    "\n",
    "print(\"\\nStep 15. Weekly Statistics for First 52 Weeks:\")\n",
    "print(weekly_stats)"
   ]
  },
  {
   "cell_type": "markdown",
   "id": "d495a052-59ae-45ac-bfc2-22b3825539e9",
   "metadata": {},
   "source": [
    "## Question 5 - Chipotle"
   ]
  },
  {
   "cell_type": "code",
   "execution_count": 100,
   "id": "a030fb58-994a-4911-adb9-018063517de2",
   "metadata": {},
   "outputs": [],
   "source": [
    "\n",
    "# Step 1. Import the necessary libraries\n",
    "import pandas as pd\n",
    "\n",
    "# Step 2. Import the dataset from this address.\n",
    "url = 'https://raw.githubusercontent.com/justmarkham/DAT8/master/data/chipotle.tsv'\n",
    "\n",
    "# Step 3. Assign it to a variable called chipo.\n",
    "chipo = pd.read_csv(url, sep = '\\t')"
   ]
  },
  {
   "cell_type": "code",
   "execution_count": 103,
   "id": "f6e6328b-f9c1-4669-a700-4f16f9f9b24d",
   "metadata": {},
   "outputs": [
    {
     "data": {
      "text/html": [
       "<div>\n",
       "<style scoped>\n",
       "    .dataframe tbody tr th:only-of-type {\n",
       "        vertical-align: middle;\n",
       "    }\n",
       "\n",
       "    .dataframe tbody tr th {\n",
       "        vertical-align: top;\n",
       "    }\n",
       "\n",
       "    .dataframe thead th {\n",
       "        text-align: right;\n",
       "    }\n",
       "</style>\n",
       "<table border=\"1\" class=\"dataframe\">\n",
       "  <thead>\n",
       "    <tr style=\"text-align: right;\">\n",
       "      <th></th>\n",
       "      <th>order_id</th>\n",
       "      <th>quantity</th>\n",
       "      <th>item_name</th>\n",
       "      <th>choice_description</th>\n",
       "      <th>item_price</th>\n",
       "    </tr>\n",
       "  </thead>\n",
       "  <tbody>\n",
       "    <tr>\n",
       "      <th>0</th>\n",
       "      <td>1</td>\n",
       "      <td>1</td>\n",
       "      <td>Chips and Fresh Tomato Salsa</td>\n",
       "      <td>NaN</td>\n",
       "      <td>$2.39</td>\n",
       "    </tr>\n",
       "    <tr>\n",
       "      <th>1</th>\n",
       "      <td>1</td>\n",
       "      <td>1</td>\n",
       "      <td>Izze</td>\n",
       "      <td>[Clementine]</td>\n",
       "      <td>$3.39</td>\n",
       "    </tr>\n",
       "    <tr>\n",
       "      <th>2</th>\n",
       "      <td>1</td>\n",
       "      <td>1</td>\n",
       "      <td>Nantucket Nectar</td>\n",
       "      <td>[Apple]</td>\n",
       "      <td>$3.39</td>\n",
       "    </tr>\n",
       "    <tr>\n",
       "      <th>3</th>\n",
       "      <td>1</td>\n",
       "      <td>1</td>\n",
       "      <td>Chips and Tomatillo-Green Chili Salsa</td>\n",
       "      <td>NaN</td>\n",
       "      <td>$2.39</td>\n",
       "    </tr>\n",
       "    <tr>\n",
       "      <th>4</th>\n",
       "      <td>2</td>\n",
       "      <td>2</td>\n",
       "      <td>Chicken Bowl</td>\n",
       "      <td>[Tomatillo-Red Chili Salsa (Hot), [Black Beans...</td>\n",
       "      <td>$16.98</td>\n",
       "    </tr>\n",
       "    <tr>\n",
       "      <th>5</th>\n",
       "      <td>3</td>\n",
       "      <td>1</td>\n",
       "      <td>Chicken Bowl</td>\n",
       "      <td>[Fresh Tomato Salsa (Mild), [Rice, Cheese, Sou...</td>\n",
       "      <td>$10.98</td>\n",
       "    </tr>\n",
       "    <tr>\n",
       "      <th>6</th>\n",
       "      <td>3</td>\n",
       "      <td>1</td>\n",
       "      <td>Side of Chips</td>\n",
       "      <td>NaN</td>\n",
       "      <td>$1.69</td>\n",
       "    </tr>\n",
       "    <tr>\n",
       "      <th>7</th>\n",
       "      <td>4</td>\n",
       "      <td>1</td>\n",
       "      <td>Steak Burrito</td>\n",
       "      <td>[Tomatillo Red Chili Salsa, [Fajita Vegetables...</td>\n",
       "      <td>$11.75</td>\n",
       "    </tr>\n",
       "    <tr>\n",
       "      <th>8</th>\n",
       "      <td>4</td>\n",
       "      <td>1</td>\n",
       "      <td>Steak Soft Tacos</td>\n",
       "      <td>[Tomatillo Green Chili Salsa, [Pinto Beans, Ch...</td>\n",
       "      <td>$9.25</td>\n",
       "    </tr>\n",
       "    <tr>\n",
       "      <th>9</th>\n",
       "      <td>5</td>\n",
       "      <td>1</td>\n",
       "      <td>Steak Burrito</td>\n",
       "      <td>[Fresh Tomato Salsa, [Rice, Black Beans, Pinto...</td>\n",
       "      <td>$9.25</td>\n",
       "    </tr>\n",
       "  </tbody>\n",
       "</table>\n",
       "</div>"
      ],
      "text/plain": [
       "   order_id  quantity                              item_name  \\\n",
       "0         1         1           Chips and Fresh Tomato Salsa   \n",
       "1         1         1                                   Izze   \n",
       "2         1         1                       Nantucket Nectar   \n",
       "3         1         1  Chips and Tomatillo-Green Chili Salsa   \n",
       "4         2         2                           Chicken Bowl   \n",
       "5         3         1                           Chicken Bowl   \n",
       "6         3         1                          Side of Chips   \n",
       "7         4         1                          Steak Burrito   \n",
       "8         4         1                       Steak Soft Tacos   \n",
       "9         5         1                          Steak Burrito   \n",
       "\n",
       "                                  choice_description item_price  \n",
       "0                                                NaN     $2.39   \n",
       "1                                       [Clementine]     $3.39   \n",
       "2                                            [Apple]     $3.39   \n",
       "3                                                NaN     $2.39   \n",
       "4  [Tomatillo-Red Chili Salsa (Hot), [Black Beans...    $16.98   \n",
       "5  [Fresh Tomato Salsa (Mild), [Rice, Cheese, Sou...    $10.98   \n",
       "6                                                NaN     $1.69   \n",
       "7  [Tomatillo Red Chili Salsa, [Fajita Vegetables...    $11.75   \n",
       "8  [Tomatillo Green Chili Salsa, [Pinto Beans, Ch...     $9.25   \n",
       "9  [Fresh Tomato Salsa, [Rice, Black Beans, Pinto...     $9.25   "
      ]
     },
     "execution_count": 103,
     "metadata": {},
     "output_type": "execute_result"
    }
   ],
   "source": [
    "# Step 4. See the first 10 entries\n",
    "chipo.head(10)"
   ]
  },
  {
   "cell_type": "code",
   "execution_count": 119,
   "id": "6a498340-f8a0-4dbd-9538-3a6069cc0d19",
   "metadata": {},
   "outputs": [
    {
     "name": "stdout",
     "output_type": "stream",
     "text": [
      "Number of observations: 4622\n"
     ]
    }
   ],
   "source": [
    "# Step 5. What is the number of observations in the dataset\n",
    "number_of_observations = chipo.shape[0]\n",
    "print(\"Number of observations:\", number_of_observations)"
   ]
  },
  {
   "cell_type": "code",
   "execution_count": 120,
   "id": "779656c1-7813-424c-a63a-0bcc55ed99df",
   "metadata": {},
   "outputs": [
    {
     "name": "stdout",
     "output_type": "stream",
     "text": [
      "Number of columns: 5\n"
     ]
    }
   ],
   "source": [
    "# Step 6. What is the number of columns in the dataset?\n",
    "number_of_columns = chipo.shape[1]\n",
    "print(\"Number of columns:\", number_of_columns)"
   ]
  },
  {
   "cell_type": "code",
   "execution_count": 123,
   "id": "57f420f6-998e-4ad4-9376-f772379f040a",
   "metadata": {},
   "outputs": [
    {
     "name": "stdout",
     "output_type": "stream",
     "text": [
      "Column names:\n",
      "Index(['order_id', 'quantity', 'item_name', 'choice_description',\n",
      "       'item_price'],\n",
      "      dtype='object')\n"
     ]
    }
   ],
   "source": [
    "# Step 7. Print the name of all the columns.\n",
    "print(\"Column names:\")\n",
    "print(chipo.columns)"
   ]
  },
  {
   "cell_type": "code",
   "execution_count": 124,
   "id": "3a44a289-97ce-4d86-9a8c-54b62b885c94",
   "metadata": {},
   "outputs": [
    {
     "name": "stdout",
     "output_type": "stream",
     "text": [
      "Indexing method: RangeIndex(start=0, stop=4622, step=1)\n"
     ]
    }
   ],
   "source": [
    "# Step 8. How is the dataset indexed?\n",
    "print(\"Indexing method:\", chipo.index)"
   ]
  },
  {
   "cell_type": "code",
   "execution_count": 127,
   "id": "ed10b4ee-ca2b-4950-9f61-26d325457f5e",
   "metadata": {},
   "outputs": [
    {
     "name": "stdout",
     "output_type": "stream",
     "text": [
      "Most-ordered item: Chicken Bowl\n"
     ]
    }
   ],
   "source": [
    "# Step 9. Which was the most-ordered item?\n",
    "most_ordered_item = chipo['item_name'].mode().iloc[0]\n",
    "print(\"Most-ordered item:\", most_ordered_item)"
   ]
  },
  {
   "cell_type": "code",
   "execution_count": 129,
   "id": "b3f1efd3-5c73-440a-846b-b04daa0e9a05",
   "metadata": {},
   "outputs": [
    {
     "name": "stdout",
     "output_type": "stream",
     "text": [
      "number_of_most_ordered_items: 726\n"
     ]
    }
   ],
   "source": [
    "# Step 10. For the most-ordered item, how many items were ordered?\n",
    "number_of_most_ordered_items = chipo['item_name'].value_counts().iloc[0]\n",
    "print(\"number_of_most_ordered_items:\", number_of_most_ordered_items)"
   ]
  },
  {
   "cell_type": "code",
   "execution_count": 130,
   "id": "99e0ec88-5df3-4bde-aebf-3661e891f236",
   "metadata": {},
   "outputs": [
    {
     "name": "stdout",
     "output_type": "stream",
     "text": [
      "Most ordered item in choice_description: [Diet Coke]\n"
     ]
    }
   ],
   "source": [
    "# Step 11. What was the most ordered item in the choice_description column?\n",
    "most_ordered_choice = chipo['choice_description'].value_counts().idxmax()\n",
    "print(\"Most ordered item in choice_description:\", most_ordered_choice)"
   ]
  },
  {
   "cell_type": "code",
   "execution_count": 132,
   "id": "beda1d86-e270-4fb6-abe5-9e92ddc235be",
   "metadata": {},
   "outputs": [
    {
     "name": "stdout",
     "output_type": "stream",
     "text": [
      "Total items ordered: 4972\n"
     ]
    }
   ],
   "source": [
    "# Step 12. How many items were orderd in total?\n",
    "total_items_ordered = chipo['quantity'].sum()\n",
    "print(\"Total items ordered:\", total_items_ordered)"
   ]
  },
  {
   "cell_type": "code",
   "execution_count": 144,
   "id": "3b7bb616-7c11-4392-82ac-bf66f0a80ac9",
   "metadata": {},
   "outputs": [
    {
     "name": "stdout",
     "output_type": "stream",
     "text": [
      "float64\n"
     ]
    }
   ],
   "source": [
    "#Step 13.\n",
    "# Turn the item price into a float\n",
    "# Create a lambda function and change the type of item price\n",
    "# Check the item price type\n",
    "chipo['item_price'] = chipo['item_price'].apply(lambda x: float(x[1:]) if isinstance(x, str) else x)\n",
    "print(chipo['item_price'].dtype)\n"
   ]
  },
  {
   "cell_type": "code",
   "execution_count": 145,
   "id": "8ac674c9-2384-496e-84c3-0d3d56cde1eb",
   "metadata": {},
   "outputs": [
    {
     "name": "stdout",
     "output_type": "stream",
     "text": [
      "Revenue for the period: 39237.02\n"
     ]
    }
   ],
   "source": [
    "# Step 14. How much was the revenue for the period in the dataset?\n",
    "revenue = (chipo['item_price'] * chipo['quantity']).sum()\n",
    "print(\"Revenue for the period:\", revenue)"
   ]
  },
  {
   "cell_type": "code",
   "execution_count": 151,
   "id": "0cfbb10c-8afa-466a-8432-57b54b9932d3",
   "metadata": {},
   "outputs": [
    {
     "name": "stdout",
     "output_type": "stream",
     "text": [
      "total orders: 1834\n"
     ]
    }
   ],
   "source": [
    "# Step 15. How many orders were made in the period?\n",
    "total_orders = chipo['order_id'].nunique()\n",
    "print(\"total orders:\", total_orders)\n"
   ]
  },
  {
   "cell_type": "code",
   "execution_count": 152,
   "id": "cd6a4a9e-7a9d-4055-9879-94d5e3072328",
   "metadata": {},
   "outputs": [
    {
     "name": "stdout",
     "output_type": "stream",
     "text": [
      "Average revenue per order: 21.39423118865867\n"
     ]
    }
   ],
   "source": [
    "# Step 16. What is the average_revenue_per_order?\n",
    "average_revenue_per_order = revenue / total_orders\n",
    "print(\"Average revenue per order:\", average_revenue_per_order)\n"
   ]
  },
  {
   "cell_type": "code",
   "execution_count": 148,
   "id": "a5b6514e-d3dd-4201-a243-5a01b4727f48",
   "metadata": {},
   "outputs": [
    {
     "name": "stdout",
     "output_type": "stream",
     "text": [
      "Number of different items: 50\n"
     ]
    }
   ],
   "source": [
    "# Step 17. How many different items are sold?\n",
    "number_of_different_items = chipo['item_name'].nunique()\n",
    "print(\"Number of different items:\", number_of_different_items)\n"
   ]
  },
  {
   "cell_type": "markdown",
   "id": "61d98d98-bcfa-488e-90fb-05b0a8834692",
   "metadata": {},
   "source": [
    "## Question 6 - Marriages and divorces per capita in the U.S. between 1867 and 2014"
   ]
  },
  {
   "cell_type": "code",
   "execution_count": 80,
   "id": "6585a760-5bf1-4bf3-b5b3-e00a0da72740",
   "metadata": {},
   "outputs": [
    {
     "data": {
      "image/png": "[encoded data removed]",
      "text/plain": [
       "<Figure size 1000x500 with 1 Axes>"
      ]
     },
     "metadata": {},
     "output_type": "display_data"
    }
   ],
   "source": [
    "import pandas as pd\n",
    "import matplotlib.pyplot as plt\n",
    "\n",
    "# Load the data\n",
    "df = pd.read_csv('us-marriages-divorces-1867-2014.csv')\n",
    "\n",
    "# Create a line plot\n",
    "plt.figure(figsize=(10, 5))\n",
    "plt.plot(df['Year'], df['Marriages_per_1000'], label='Marriages')\n",
    "plt.plot(df['Year'], df['Divorces_per_1000'], label='Divorces')\n",
    "\n",
    "# Label the axes\n",
    "plt.xlabel('Year')\n",
    "plt.ylabel('Per Capita')\n",
    "\n",
    "# Show the legend\n",
    "plt.legend()\n",
    "\n",
    "plt.show()\n"
   ]
  },
  {
   "cell_type": "markdown",
   "id": "e47b1a88-5b70-4c73-89b0-1a990d7e0add",
   "metadata": {},
   "source": [
    "## Question 7 - Marriages and divorces per capita in the U.S. between 1900, 1950, and 2000."
   ]
  },
  {
   "cell_type": "code",
   "execution_count": 87,
   "id": "3af23de3-ba37-438e-a018-686b8ad69d03",
   "metadata": {},
   "outputs": [
    {
     "data": {
      "image/png": "[encoded data removed]",
      "text/plain": [
       "<Figure size 640x480 with 1 Axes>"
      ]
     },
     "metadata": {},
     "output_type": "display_data"
    }
   ],
   "source": [
    "import pandas as pd\n",
    "import matplotlib.pyplot as plt\n",
    "\n",
    "# Load the data\n",
    "df = pd.read_csv('us-marriages-divorces-1867-2014.csv')\n",
    "\n",
    "# Filter the data for the years 1900, 1950, and 2000\n",
    "df_filtered = df[df['Year'].isin([1900, 1950, 2000])]\n",
    "\n",
    "# Create a bar chart\n",
    "bar_width = 5\n",
    "opacity = 0.8\n",
    "\n",
    "fig, ax = plt.subplots()\n",
    "\n",
    "bar1 = plt.bar(df_filtered['Year'] - bar_width/2, df_filtered['Marriages_per_1000'], bar_width, alpha=opacity, color='b', label='Marriages')\n",
    "bar2 = plt.bar(df_filtered['Year'] + bar_width/2, df_filtered['Divorces_per_1000'], bar_width, alpha=opacity, color='r', label='Divorces')\n",
    "\n",
    "# Label the axes\n",
    "plt.xlabel('Year')\n",
    "plt.ylabel('Per Capita')\n",
    "\n",
    "# Show the legend\n",
    "plt.legend()\n",
    "\n",
    "plt.tight_layout()\n",
    "plt.show()\n"
   ]
  },
  {
   "cell_type": "markdown",
   "id": "6cf36a5c-79f4-4fdd-b02c-8a53b7447de2",
   "metadata": {},
   "source": [
    "## Question 8 -  Deadliest actors in Hollywood"
   ]
  },
  {
   "cell_type": "code",
   "execution_count": 70,
   "id": "969e6a6f-8f85-4525-9bce-b437032f4d14",
   "metadata": {},
   "outputs": [],
   "source": [
    "import pandas as pd\n",
    "import matplotlib.pyplot as plt\n",
    "\n",
    "# Read the CSV file into a DataFrame\n",
    "actors_data = pd.read_csv('actor_kill_counts.csv')"
   ]
  },
  {
   "cell_type": "code",
   "execution_count": 74,
   "id": "c5be22f1-b465-462b-9fc5-994d2634c901",
   "metadata": {},
   "outputs": [
    {
     "data": {
      "image/png": "[encoded data removed]",
      "text/plain": [
       "<Figure size 1000x800 with 1 Axes>"
      ]
     },
     "metadata": {},
     "output_type": "display_data"
    }
   ],
   "source": [
    " #Sort the actors by their kill count\n",
    "sort_actors = actors_data.sort_values(by='Count', ascending=False)\n",
    "\n",
    "# Extract actor names and kill counts\n",
    "actor_names = sort_actors['Actor']\n",
    "kill_counts = sort_actors['Count']\n",
    "\n",
    "# Plotting the horizontal bar chart\n",
    "plt.figure(figsize=(10, 8))  # Adjust the figure size as needed\n",
    "bars = plt.barh(actor_names, kill_counts, color='skyblue')\n",
    "plt.xlabel('Count')\n",
    "plt.ylabel('Actor')\n",
    "plt.title('Deadliest Actors in Hollywood')\n",
    "\n",
    "# Add labels for each bar\n",
    "for bar in bars:\n",
    "    width = bar.get_width()\n",
    "    y = bar.get_y()\n",
    "    height = bar.get_height()\n",
    "    plt.text(width, y + height/2, f'{int(width)}', ha='left', va='center')\n",
    "\n",
    "plt.gca().invert_yaxis()  # Invert y-axis to display the highest count at the top\n",
    "plt.show()"
   ]
  },
  {
   "cell_type": "markdown",
   "id": "53396786-a51b-4c2f-88e0-7e5059ce959f",
   "metadata": {},
   "source": [
    "## Question 9 - Roman Emperors "
   ]
  },
  {
   "cell_type": "code",
   "execution_count": 27,
   "id": "c54513d5-e33d-43ea-b1b7-d3f5f21b8646",
   "metadata": {},
   "outputs": [
    {
     "name": "stdout",
     "output_type": "stream",
     "text": [
      "    Emperor  Length_of_Reign         Cause_of_Death\n",
      "0  Augustus            40.58  Possibly assassinated\n",
      "1  Tiberius            22.50  Possibly assassinated\n",
      "2  Caligula             4.83           Assassinated\n",
      "3  Claudius            13.75  Possibly assassinated\n",
      "4      Nero            13.67                Suicide\n"
     ]
    }
   ],
   "source": [
    "import pandas as pd\n",
    "import matplotlib.pyplot as plt\n",
    "\n",
    "# Load the data\n",
    "df = pd.read_csv('roman-emperor-reigns.csv')\n",
    "print(df.head())"
   ]
  },
  {
   "cell_type": "code",
   "execution_count": 55,
   "id": "2b778612-67d5-43ac-8445-4c7d8f83f45f",
   "metadata": {},
   "outputs": [
    {
     "name": "stdout",
     "output_type": "stream",
     "text": [
      "Cause_of_Death\n",
      "Assassinated             22\n",
      "Natural causes           16\n",
      "Possibly assassinated     8\n",
      "Killed in battle          8\n",
      "Suicide                   5\n",
      "Illness                   5\n",
      "Executed                  3\n",
      "Died in captivity         1\n",
      "Name: count, dtype: int64\n"
     ]
    }
   ],
   "source": [
    "# Count the number of emperors who were assassinated\n",
    "cause_of_death_counts = df['Cause_of_Death'].value_counts()\n",
    "print(cause_of_death_counts)"
   ]
  },
  {
   "cell_type": "code",
   "execution_count": 56,
   "id": "98dc38dd-292c-47a4-a5db-22ed45d339f4",
   "metadata": {},
   "outputs": [
    {
     "data": {
      "image/png": "[encoded data removed]",
      "text/plain": [
       "<Figure size 600x600 with 1 Axes>"
      ]
     },
     "metadata": {},
     "output_type": "display_data"
    }
   ],
   "source": [
    "# Create a pie chart\n",
    "labels = cause_of_death_counts.index\n",
    "sizes = cause_of_death_counts.values\n",
    "colors = ['#d62728', '#ff7f0e', '#2ca02c', '#1f77b4', '#9467bd', '#8c564b', '#e377c2', '#7f7f7f']\n",
    "\n",
    "plt.figure(figsize=(6, 6))\n",
    "plt.pie(sizes, labels=labels, colors=colors, autopct='%1.1f%%', startangle=90)\n",
    "plt.title(' Cause of Death')\n",
    "plt.axis('equal')\n",
    "\n",
    "plt.show()"
   ]
  },
  {
   "cell_type": "markdown",
   "id": "aee9958f-f1b8-4d17-883d-6f33387a84e8",
   "metadata": {},
   "source": [
    "## Question 10 - Revenue Vs Doctorate"
   ]
  },
  {
   "cell_type": "code",
   "execution_count": 11,
   "id": "638781c7-cd8f-462a-9608-8e3cca576d42",
   "metadata": {},
   "outputs": [
    {
     "name": "stdout",
     "output_type": "stream",
     "text": [
      "   Year  Total Arcade Revenue (billions)  \\\n",
      "0  2000                            1.196   \n",
      "1  2001                            1.176   \n",
      "2  2002                            1.269   \n",
      "3  2003                            1.240   \n",
      "4  2004                            1.307   \n",
      "\n",
      "   Computer Science Doctorates Awarded (US)  \n",
      "0                                       861  \n",
      "1                                       830  \n",
      "2                                       809  \n",
      "3                                       867  \n",
      "4                                       948  \n"
     ]
    }
   ],
   "source": [
    "import pandas as pd\n",
    "import matplotlib.pyplot as plt\n",
    "\n",
    "# Load the data from the CSV file\n",
    "data = pd.read_csv('arcade-revenue-vs-cs-doctorates.csv')\n",
    "print(data.head())"
   ]
  },
  {
   "cell_type": "code",
   "execution_count": 12,
   "id": "cdb4f639-89a5-4c55-aea9-a589f7461a0f",
   "metadata": {},
   "outputs": [
    {
     "name": "stdout",
     "output_type": "stream",
     "text": [
      "['Year', 'Total Arcade Revenue (billions)', 'Computer Science Doctorates Awarded (US)']\n"
     ]
    }
   ],
   "source": [
    "column_names = data.columns.tolist()\n",
    "print(column_names)"
   ]
  },
  {
   "cell_type": "code",
   "execution_count": 14,
   "id": "bfba704c-1d15-49eb-8196-4ce2840f7d8c",
   "metadata": {},
   "outputs": [],
   "source": [
    "# Extracting relevant data\n",
    "revenue = data['Total Arcade Revenue (billions)']\n",
    "phds = data['Computer Science Doctorates Awarded (US)']\n",
    "years = data['Year']"
   ]
  },
  {
   "cell_type": "code",
   "execution_count": 19,
   "id": "1894b608-f43b-4e50-9acd-df09a83b2899",
   "metadata": {},
   "outputs": [
    {
     "data": {
      "image/png": "[encoded data removed]",
      "text/plain": [
       "<Figure size 1000x600 with 1 Axes>"
      ]
     },
     "metadata": {},
     "output_type": "display_data"
    }
   ],
   "source": [
    "# Creating the scatter plot\n",
    "plt.figure(figsize=(10, 6))\n",
    "for i, year in enumerate(years.unique()):\n",
    "    plt.scatter(revenue[years == year], phds[years == year], label=year)\n",
    "\n",
    "# Adding labels and title\n",
    "plt.xlabel('Total Arcade Revenue (billions)')\n",
    "plt.ylabel('Computer Science Doctorates Awarded (US)')\n",
    "plt.title('Relationship Between Arcade Revenue and Computer Science PhDs (2000-2009)')\n",
    "plt.legend(title='Year')\n",
    "plt.grid(True)\n",
    "\n",
    "\n",
    "# Show plot\n",
    "plt.show()\n"
   ]
  }
 ],
 "metadata": {
  "kernelspec": {
   "display_name": "Python 3 (ipykernel)",
   "language": "python",
   "name": "python3"
  },
  "language_info": {
   "codemirror_mode": {
    "name": "ipython",
    "version": 3
   },
   "file_extension": ".py",
   "mimetype": "text/x-python",
   "name": "python",
   "nbconvert_exporter": "python",
   "pygments_lexer": "ipython3",
   "version": "3.11.5"
  }
 },
 "nbformat": 4,
 "nbformat_minor": 5
}
